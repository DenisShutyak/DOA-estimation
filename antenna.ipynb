{
 "metadata": {
  "language_info": {
   "codemirror_mode": {
    "name": "ipython",
    "version": 3
   },
   "file_extension": ".py",
   "mimetype": "text/x-python",
   "name": "python",
   "nbconvert_exporter": "python",
   "pygments_lexer": "ipython3",
   "version": "3.8.3"
  },
  "orig_nbformat": 2,
  "kernelspec": {
   "name": "python383jvsc74a57bd0184056108a3547f2193d2efa92fb0f74250f14e7b469048393661033d42ee1bf",
   "display_name": "Python 3.8.3 64-bit ('base': conda)"
  }
 },
 "nbformat": 4,
 "nbformat_minor": 2,
 "cells": [
  {
   "cell_type": "code",
   "execution_count": null,
   "metadata": {},
   "outputs": [],
   "source": [
    "import antenna\n",
    "import numpy as np\n",
    "import matplotlib.pyplot as plt\n",
    "import time\n",
    "import os\n",
    "import glob\n",
    "import numpy as np\n",
    "from tensorflow.keras.utils import  plot_model\n",
    "import matplotlib.pyplot as plt\n",
    "import tensorflow as tf\n",
    "from tensorflow import keras\n",
    "from tensorflow.keras import layers\n",
    "from tensorflow.keras.optimizers import Adam\n",
    "from tensorflow.keras.models import Model\n",
    "from PIL import Image, ImageDraw\n",
    "import pandas as pd\n",
    "import seaborn as sns\n",
    "from keras.callbacks import ModelCheckpoint\n",
    "import keras.callbacks\n",
    "import tensorflow.keras.losses\n",
    "import os\n",
    "import pydot"
   ]
  },
  {
   "cell_type": "code",
   "execution_count": null,
   "metadata": {},
   "outputs": [],
   "source": [
    "N = 10\n",
    "Grid_size = 10000\n",
    "d = 1/2"
   ]
  },
  {
   "cell_type": "code",
   "execution_count": null,
   "metadata": {},
   "outputs": [],
   "source": [
    "rel = 1.22/(d*(N-1))"
   ]
  },
  {
   "cell_type": "code",
   "execution_count": null,
   "metadata": {},
   "outputs": [],
   "source": [
    "antenna1 = antenna.antenna(N, Grid_size, random_distr = False, antenna_type = 'non-directional')"
   ]
  },
  {
   "cell_type": "code",
   "execution_count": null,
   "metadata": {
    "tags": []
   },
   "outputs": [],
   "source": [
    "a = antenna1.cosine_Amplitude_distr(1,1)"
   ]
  },
  {
   "cell_type": "code",
   "execution_count": null,
   "metadata": {
    "tags": []
   },
   "outputs": [],
   "source": [
    "antenna1.plot_dd()"
   ]
  },
  {
   "cell_type": "code",
   "execution_count": null,
   "metadata": {},
   "outputs": [],
   "source": [
    "antenna1.plot_distr()"
   ]
  },
  {
   "cell_type": "code",
   "execution_count": null,
   "metadata": {
    "tags": []
   },
   "outputs": [],
   "source": [
    "bool_MUSIC = 0\n",
    "bool_Noise = 1\n",
    "bool_Capon = 1\n",
    "Grid = antenna1.get_Grid()\n",
    "MUSIC = np.zeros(np.shape(Grid))\n",
    "Capon = np.zeros(np.shape(Grid))\n",
    "Noise = np.zeros(np.shape(Grid))\n",
    "loc1 = Grid[0,500]\n",
    "loc2 = -loc1\n",
    "n_Capon = 0\n",
    "n_music = 0\n",
    "n_Noise = 0\n",
    "sigmas = []\n",
    "MUSICS = []\n",
    "NOISES = []\n",
    "CAPONS = []\n",
    "'''\n",
    "tic = time.perf_counter()\n",
    "c = model.predict(test_gen,steps=len(train_idx))\n",
    "toc = time.perf_counter()\n",
    "time = abs(tic-toc)\n",
    "'''\n",
    "antenna1.set_interference(loc1,1)\n",
    "antenna1.set_interference(loc2,1)\n",
    "a = 4030\n",
    "for s in range(5,25,1):\n",
    "    for i in range(a,Grid_size//2-1,4):\n",
    "        if bool_Capon ==0:\n",
    "            if bool_MUSIC == 0:\n",
    "                if bool_Noise == 0:\n",
    "                    a = min([n_Capon,n_Noise])\n",
    "                    break\n",
    "        loc1 = Grid[0,i]\n",
    "        loc2 = Grid[0,Grid_size-i]\n",
    "        antenna1.reset_interference(loc1,s/2)\n",
    "        antenna1.set_interference(loc2,s/2)\n",
    "        \n",
    "        if bool_Capon == 1:\n",
    "            Capon = antenna1.adapt_Capon()\n",
    "            if (abs(Capon[int(Grid_size//2)]-Capon[i])<3 or Capon[i]<Capon[int(Grid_size//2)]):\n",
    "                n_Capon = i\n",
    "                bool_Capon = 0\n",
    "                print('Capon_out')\n",
    "                print(n_Capon)\n",
    "\n",
    "        if bool_Noise == 1:\n",
    "            Noise = antenna1.Thermal_noise()\n",
    "            if (abs(Noise[int(Grid_size//2)]-Noise[i])<3 or Noise[i]<Noise[int(Grid_size//2)]):\n",
    "                n_Noise = i\n",
    "                bool_Noise = 0\n",
    "                print('Noise_out')\n",
    "                print(n_Noise)\n",
    "\n",
    "        if bool_MUSIC == 1:\n",
    "            MUSIC = antenna1.MUSIC()\n",
    "            if (abs(MUSIC[int(Grid_size//2)]-MUSIC[i])<3 or MUSIC[i]<MUSIC[int(Grid_size//2)]):\n",
    "                n_music = i\n",
    "                bool_MUSIC = 0\n",
    "                print('MUSIC_out')\n",
    "                print(n_music)\n",
    "    sigmas.append(10**(s/20))\n",
    "    MUSICS.append(rel/(((Grid_size//2-n_music)/Grid_size)*np.pi*1))\n",
    "    NOISES.append((rel/np.pi)/((Grid_size//2-n_Noise)/Grid_size))\n",
    "    CAPONS.append((rel/np.pi)/((Grid_size//2-n_Capon)/Grid_size))\n",
    "    bool_MUSIC = 0\n",
    "    bool_Noise = 1\n",
    "    bool_Capon = 1\n",
    "\n",
    "fig1, ax1 = plt.subplots(1,1,figsize=(10,6))\n",
    "#linem, = ax1.plot(sigmas,MUSICS,'blue',  label='MUSIC')\n",
    "linen, = ax1.plot(sigmas,NOISES,'green', label='Thermal Noise')\n",
    "linec, = ax1.plot(sigmas,CAPONS,'black', label='Capon')\n",
    "ax1.legend(loc='upper left')\n",
    "ax1.grid(True)\n",
    "ax1.legend(handles=[linen,linec])\n",
    "ax1.set_xlabel(r\"${\\sigma}$\")\n",
    "ax1.set_ylabel(r\"${\\Delta_{rel}}/{\\Delta\\Theta}$\")"
   ]
  },
  {
   "cell_type": "code",
   "execution_count": null,
   "metadata": {
    "tags": []
   },
   "outputs": [],
   "source": [
    "Noise = antenna1.Thermal_noise()\n",
    "Capon = antenna1.adapt_Capon()\n",
    "fig2, ax2 = plt.subplots(1,1,figsize=(10,6))\n",
    "#linem2, = ax2.plot(Grid,MUSIC,'blue',  label='MUSIC')\n",
    "linen2, = ax2.plot(np.array(Grid).transpose(),np.array(Noise),'green', label='Thermal Noise')\n",
    "linec2, = ax2.plot(np.array(Grid).transpose(),np.array(Capon),'black', label='Capon')\n",
    "ax2.legend(loc='upper left')\n",
    "ax2.grid(True)\n",
    "ax2.legend(handles=[linen2,linec2])\n"
   ]
  },
  {
   "cell_type": "code",
   "execution_count": null,
   "metadata": {},
   "outputs": [],
   "source": [
    "bool_MUSIC = 1\n",
    "bool_Noise = 1\n",
    "bool_Capon = 1\n",
    "Grid = antenna1.get_Grid()\n",
    "MUSIC = np.zeros(np.shape(Grid))\n",
    "Capon = np.zeros(np.shape(Grid))\n",
    "Noise = np.zeros(np.shape(Grid))\n",
    "loc1 = Grid[150]\n",
    "loc2 = -loc1\n",
    "antenna1.set_interference(loc1,10)\n",
    "antenna1.set_interference(loc2,10)\n",
    "MUSIC = antenna1.MUSIC()\n",
    "Noise = antenna1.Thermal_noise()\n",
    "Capon = antenna1.adapt_Capon()"
   ]
  },
  {
   "cell_type": "code",
   "execution_count": null,
   "metadata": {},
   "outputs": [],
   "source": [
    "results = model.predict(np.reshape([np.array(antenna1.return_overall_cov())],[1,15,15,1]))"
   ]
  },
  {
   "cell_type": "code",
   "execution_count": null,
   "metadata": {},
   "outputs": [],
   "source": [
    "\n",
    "fig = plt.figure(figsize=(10,8))\n",
    "ax1 = fig.add_subplot(111)\n",
    "linen, = ax1.plot(Grid,MUSIC.transpose()/10,'black', label='MUSIC', ls = ':')\n",
    "linem, = ax1.plot(Grid,Noise.transpose()/10,'black', label='Thermal Noise', ls='--')\n",
    "linec, = ax1.plot(Grid,Capon.transpose()/10,'black', label='Capon')\n",
    "#ax.set_title('Directional diagram for ' + self.type + ' antenna with' + str(self.N) + ' elements')\n",
    "ax1.grid(True)\n",
    "ax1.legend(handles=[linem,linen,linec])\n",
    "ax1.set_xlabel(r\"${\\sigma}$\")\n",
    "ax1.set_ylabel(r\"${\\Delta_{rel}}/{\\Delta\\Theta}$\")"
   ]
  }
 ]
}